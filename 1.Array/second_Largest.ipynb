{
 "cells": [
  {
   "cell_type": "markdown",
   "id": "edb0b259",
   "metadata": {},
   "source": [
    "Given an array of positive integers arr[], return the second largest element from the array. If the second largest element doesn't exist then return -1.\n",
    "\n",
    "Note: The second largest element should not be equal to the largest element.\n",
    "\n",
    "Examples:\n",
    "\n",
    "Input: arr[] = [12, 35, 1, 10, 34, 1]\n",
    "Output: 34\n",
    "Explanation: The largest element of the array is 35 and the second largest element is 34.\n",
    "Input: arr[] = [10, 5, 10]\n",
    "Output: 5\n",
    "Explanation: The largest element of the array is 10 and the second largest element is 5.\n",
    "Input: arr[] = [10, 10, 10]\n",
    "Output: -1\n",
    "Explanation: The largest element of the array is 10 and the second largest element does not exist.\n",
    "Constraints:\n",
    "2 ≤ arr.size() ≤ 105\n",
    "1 ≤ arr[i] ≤ 105\n",
    "\n"
   ]
  },
  {
   "cell_type": "code",
   "execution_count": 20,
   "id": "12647f91",
   "metadata": {},
   "outputs": [
    {
     "name": "stdout",
     "output_type": "stream",
     "text": [
      "-25\n"
     ]
    }
   ],
   "source": [
    "import numpy as np\n",
    "import math \n",
    "class Solution:\n",
    "    def getSecondLargest(self, arr):\n",
    "        if len(arr)<2:\n",
    "            return -1\n",
    "        \n",
    "        max1=max2=-1*(math.inf)\n",
    "        for elements in arr:\n",
    "            if elements > max1:\n",
    "                max2=max1\n",
    "                max1=elements\n",
    "            elif elements>max2 and elements != max1:\n",
    "                max2=elements\n",
    "            elif max1 == max2:\n",
    "                    return -1\n",
    "            \n",
    "        \n",
    "        if max2 ==-math.inf:\n",
    "            return -1\n",
    "        else:\n",
    "            return max2\n",
    "            \n",
    "\n",
    "\n",
    "arr=np.array([12,35,42,35,1,-6])\n",
    "a=np.array([-25,35,35,35])\n",
    "s=Solution()\n",
    "print(s.getSecondLargest(a))\n",
    "\n"
   ]
  }
 ],
 "metadata": {
  "kernelspec": {
   "display_name": "base",
   "language": "python",
   "name": "python3"
  },
  "language_info": {
   "codemirror_mode": {
    "name": "ipython",
    "version": 3
   },
   "file_extension": ".py",
   "mimetype": "text/x-python",
   "name": "python",
   "nbconvert_exporter": "python",
   "pygments_lexer": "ipython3",
   "version": "3.12.3"
  }
 },
 "nbformat": 4,
 "nbformat_minor": 5
}
