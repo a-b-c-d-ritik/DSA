{
 "cells": [
  {
   "cell_type": "markdown",
   "id": "e1dfa3ac",
   "metadata": {},
   "source": [
    "You are given an array arr[] of non-negative integers. Your task is to move all the zeros in the array to the right end while maintaining the relative order of the non-zero elements. The operation must be performed in place, meaning you should not use extra space for another array.\n",
    " (inplace means we cannot use an extra array)\n",
    "Examples:\n",
    "\n",
    "Input: arr[] = [1, 2, 0, 4, 3, 0, 5, 0]\n",
    "Output: [1, 2, 4, 3, 5, 0, 0, 0]\n",
    "Explanation: There are three 0s that are moved to the end.\n",
    "Input: arr[] = [10, 20, 30]\n",
    "Output: [10, 20, 30]\n",
    "Explanation: No change in array as there are no 0s.\n",
    "Input: arr[] = [0, 0]\n",
    "Output: [0, 0]\n",
    "Explanation: No change in array as there are all 0s.\n",
    "Constraints:\n",
    "1 ≤ arr.size() ≤ 105\n",
    "0 ≤ arr[i] ≤ 105"
   ]
  },
  {
   "cell_type": "code",
   "execution_count": 22,
   "id": "0758f873",
   "metadata": {},
   "outputs": [
    {
     "ename": "TabError",
     "evalue": "inconsistent use of tabs and spaces in indentation (<string>, line 4)",
     "output_type": "error",
     "traceback": [
      "\u001b[1;36m  File \u001b[1;32m<string>:4\u001b[1;36m\u001b[0m\n\u001b[1;33m    def pushZerosToEnd(self,arr):\u001b[0m\n\u001b[1;37m                                 ^\u001b[0m\n\u001b[1;31mTabError\u001b[0m\u001b[1;31m:\u001b[0m inconsistent use of tabs and spaces in indentation\n"
     ]
    }
   ],
   "source": [
    "import numpy as np;\n",
    "class Solution:\n",
    "    ctr=0\n",
    "\tdef pushZerosToEnd(self,arr):\n",
    "        for i in range(-1,len(arr),1):\n",
    "            if arr[i+1]==0:\n",
    "                temp=arr[i]\n",
    "                arr[i]=arr[i+1]\n",
    "                arr[i+1]=temp\n",
    "                \n",
    "        return arr\n",
    "                \n",
    "                    \n",
    "\n",
    "\n",
    "arr=np.array([1,0,3,4,5])\n",
    "s=Solution();\n",
    "print(s.pushZerosToEnd(arr))\n"
   ]
  }
 ],
 "metadata": {
  "kernelspec": {
   "display_name": "base",
   "language": "python",
   "name": "python3"
  },
  "language_info": {
   "codemirror_mode": {
    "name": "ipython",
    "version": 3
   },
   "file_extension": ".py",
   "mimetype": "text/x-python",
   "name": "python",
   "nbconvert_exporter": "python",
   "pygments_lexer": "ipython3",
   "version": "3.12.3"
  }
 },
 "nbformat": 4,
 "nbformat_minor": 5
}
